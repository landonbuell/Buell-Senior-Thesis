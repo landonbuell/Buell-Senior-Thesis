{
 "cells": [
  {
   "cell_type": "markdown",
   "metadata": {},
   "source": [
    "# Creating your First Multilayer Perceptron Classifier in Python w/ Scikit-Learn\n",
    "#### Landon Buell - 24 April 2020\n",
    "#### Adpated & Modified from \"Hands on Machine Learning with Scikit-Learn and Tensorflow\" by Aurelien Geron"
   ]
  },
  {
   "cell_type": "markdown",
   "metadata": {},
   "source": [
    "The Multilayer Perceptron is a simple feed-forward architecture for neural networks developed by Frank Rosenblatt in the 1950's. It's composed of layers of \"neruons\" which we model as columns of floating-point numbers. The enntries on each layer-vector object are referred to activations of for the neruons in that layer. Information is passed through the network by repeated matrix- vector equations. \n",
    "\n",
    "Supose we have a column vector (1 x M) that contains activations for the $l$-th layer. We can produce the $l+1$ layer:\n",
    "$$ x^{(l+1)} = f \\Big[ \\hat{W}^{(l)} \\vec{x}^{(l)} + \\vec{b}^{(l)} \\Big] $$\n",
    "where $x^{(l+1)}$ is the activation vector (1 x N) for the next layer, $\\hat{W}$ is an (N x M) weighting matrix, $\\vec{b}$ is a (1 x N) bias vector, and $f$ is some activation function.\n",
    "\n",
    "For a network with $L$ layers (L-2 hidden, 1 input, 1 output), this equation is repeated $L-1$ times. The activations in the final layer correspond to the Network's final decision of a particular input sample."
   ]
  },
  {
   "cell_type": "markdown",
   "metadata": {},
   "source": [
    "## Rather than build one from the ground up:\n",
    "Let's explore the scikit-learn (sklearn) impliementation of the MLP network model. sklearn is a an open-source API that has within it several smaller submodules that are all built around facilitaing a machine learning work flow for a Python 3.X user. The main documentation page can be found here:\n",
    "https://scikit-learn.org/stable/\n",
    "\n",
    "Before we import sklearn, lets import some tools for later\n"
   ]
  },
  {
   "cell_type": "code",
   "execution_count": 1,
   "metadata": {},
   "outputs": [],
   "source": [
    "#### PRELIMINARY IMPORTS ####\n",
    "import numpy as np\n",
    "import matplotlib.pyplot as plt"
   ]
  },
  {
   "cell_type": "markdown",
   "metadata": {},
   "source": [
    "## The Goal: Build a Digit-Image Classifier Neural Network\n",
    "For this example, we'll use the classifier variant to create a \"Digit-Detector Algorithm\" that identifies a digit within a 28 x 28 pixel picture.  To do this, we will use a standard toy dataset called \"MNIST\". This is a data set modified fromt he US Postal service. You can find more details about it here:\n",
    "https://en.wikipedia.org/wiki/MNIST_database\n",
    "\n",
    "We can actully load in thus data set directly from sklearn! Note: Due to the size of the dat set, your computer may take a few seconds to completely run the next cell."
   ]
  },
  {
   "cell_type": "code",
   "execution_count": 3,
   "metadata": {},
   "outputs": [
    {
     "name": "stdout",
     "output_type": "stream",
     "text": [
      "Shape of Design Matrix: (70000, 784)\n",
      "Shape of target Vector: (70000,)\n"
     ]
    }
   ],
   "source": [
    "#### LOAD IN RAW DATA SET ####\n",
    "\n",
    "from sklearn.datasets import fetch_openml\n",
    "X,y = fetch_openml('mnist_784',version=1,return_X_y=True)\n",
    "\n",
    "# lets examine the shape of out data:\n",
    "print(\"Shape of design matrix:\",X.shape)\n",
    "print(\"Shape of target vector:\",y.shape)"
   ]
  },
  {
   "cell_type": "markdown",
   "metadata": {},
   "source": [
    "We can see that out design matrix $X$ is made of up $70,000$ rows by $784$ columns. This corresponds to $70,000$ samples in the data set, each one has 784 features, which are the 28 x 28 pixels. As a 'sanity check', lets examine what a sample looks like:"
   ]
  },
  {
   "cell_type": "code",
   "execution_count": 15,
   "metadata": {},
   "outputs": [
    {
     "name": "stdout",
     "output_type": "stream",
     "text": [
      "Image is labeled: 3\n"
     ]
    },
    {
     "data": {
      "image/png": "[encoded data removed]",
      "text/plain": [
       "<Figure size 576x576 with 1 Axes>"
      ]
     },
     "metadata": {
      "needs_background": "light"
     },
     "output_type": "display_data"
    }
   ],
   "source": [
    "#### EXAMINING A SINGLE SAMPLE OF DATA ####\n",
    "\n",
    "index = 10000\n",
    "# lets pull out a single row from the design matrix\n",
    "digit = X[index].reshape(28,28)\n",
    "# Lets pull out the corresponding label from the tagret vector:\n",
    "label = y[index]\n",
    "print(\"Image is labeled:\",label)\n",
    "\n",
    "plt.figure(figsize=(8,8))\n",
    "plt.imshow(digit,cmap=plt.cm.binary)\n",
    "plt.show()"
   ]
  },
  {
   "cell_type": "markdown",
   "metadata": {},
   "source": [
    "## Last Step before building our network,\n",
    "Lets break data into training and testing samples, and we'll begin!"
   ]
  },
  {
   "cell_type": "code",
   "execution_count": 10,
   "metadata": {},
   "outputs": [],
   "source": [
    "#### SPLIT INTO TRAINING & TESTING SAMPLES ####\n",
    "\n",
    "from sklearn.model_selection import train_test_split\n",
    "\n",
    "X_train,X_test,y_train,y_test = train_test_split(X,y,test_size=0.4)"
   ]
  },
  {
   "cell_type": "markdown",
   "metadata": {},
   "source": [
    "## Creating an Sklearn MLP Classifier\n",
    "Now let's actually create a neural network! We'll use the \"MLPClassifier\" class object from the \"neural_network\" submodule.\n",
    "\n",
    "More on sklearn.neural_networks:\n",
    "https://scikit-learn.org/stable/modules/neural_networks_supervised.html\n",
    "\n",
    "More on the MLPClassifier Object:\n",
    "https://scikit-learn.org/stable/modules/generated/sklearn.neural_network.MLPClassifier.html\n",
    "\n",
    "When we create this instance, lets give our network 2 hidden layers, each with 100 neurons. Given our data set, the input layer with have 784 neurons, which we also call \"features\" (one for each pixel) and 10 output neurons, which we call \"classes\".\n",
    "Let's also use the \"ReLU\" activation function and the \"Stochastic Gradient Descent\" back propagation method to train the model as well. \n",
    "\n",
    "More on Stochastic Gradient Descent:\n",
    "https://en.wikipedia.org/wiki/Stochastic_gradient_descent\n",
    "\n",
    "We will also set the \"random_state\" parameter to a fixed value so that we produce the same results from computer to computer. This parameter simply adjusts the initial values in the entries of each weighting matrix and bias vector."
   ]
  },
  {
   "cell_type": "code",
   "execution_count": 16,
   "metadata": {},
   "outputs": [],
   "source": [
    "#### CREATE SKLEARN NETWORK INSTANCE ####\n",
    "\n",
    "from sklearn.neural_network import MLPClassifier\n",
    "\n",
    "My_Network = MLPClassifier(hidden_layer_sizes=(100,100),activation='relu',\n",
    "                          solver='sgd',random_state=0)\n",
    "\n",
    "# most of the other Hyper-parameters are taken care of for us!"
   ]
  },
  {
   "cell_type": "markdown",
   "metadata": {},
   "source": [
    "## Training our Classifier\n",
    "Since each entry weighting matricies and bias vectors are initally random, we essentially have a very fancy random number generator! We need to train out model on the data set. We do this by \"fitting\" the nerual network with the $X$ trainign subset and the corresponding $y$ subset. Once agin, due to the volume of this data set and the computational complexity of the training process, the next cell make take a few seconds to fully run. "
   ]
  },
  {
   "cell_type": "code",
   "execution_count": 19,
   "metadata": {},
   "outputs": [],
   "source": [
    "#### TRAIN THE NEURAL NETWORK CLASSIFIER ####\n",
    "\n",
    "My_Network = My_Network.fit(X_train,y_train)"
   ]
  },
  {
   "cell_type": "code",
   "execution_count": 67,
   "metadata": {},
   "outputs": [
    {
     "data": {
      "text/plain": [
       "'softmax'"
      ]
     },
     "execution_count": 67,
     "metadata": {},
     "output_type": "execute_result"
    }
   ],
   "source": [
    "My_Network.out_activation_"
   ]
  },
  {
   "cell_type": "markdown",
   "metadata": {},
   "source": [
    "## Predicting on a Sample:\n",
    "We can run a precition on a single sample from the TESTING data set. This gaurentees that out classifier is making a predicitions on data that it has never seen before. Sometimes the predictions are accurate and sometimes they aren't. lets look as another sample:"
   ]
  },
  {
   "cell_type": "code",
   "execution_count": 61,
   "metadata": {},
   "outputs": [
    {
     "name": "stdout",
     "output_type": "stream",
     "text": [
      "Image is labeled: 0\n",
      "Network prediction ['0']\n"
     ]
    },
    {
     "data": {
      "image/png": "[encoded data removed]",
      "text/plain": [
       "<Figure size 576x576 with 1 Axes>"
      ]
     },
     "metadata": {
      "needs_background": "light"
     },
     "output_type": "display_data"
    }
   ],
   "source": [
    "#### PREDICTION A SINGLE SAMPLE OF DATA ####\n",
    "\n",
    "index = 1000\n",
    "# lets pull out a single row from the design matrix\n",
    "sample = X_test[index] \n",
    "digit = X_test[index].reshape(28,28)\n",
    "# Lets pull out the corresponding label from the tagret vector:\n",
    "label = y_test[index]\n",
    "print(\"Image is labeled:\",label)\n",
    "print(\"Network prediction\",My_Network.predict([sample]))\n",
    "\n",
    "plt.figure(figsize=(8,8))\n",
    "plt.imshow(digit,cmap=plt.cm.binary)\n",
    "plt.show()"
   ]
  },
  {
   "cell_type": "markdown",
   "metadata": {},
   "source": [
    "## Under the Hood - Using Linear Algbrea\n",
    "The exact weighting matricies and bais vectors can be extracted from the trained network instance. We can use these the \"manually\" re-create this prediction using repeated variation of the equation in the 2nd cell. Lets extract the matricies and manually assign them values."
   ]
  },
  {
   "cell_type": "code",
   "execution_count": 62,
   "metadata": {},
   "outputs": [
    {
     "name": "stdout",
     "output_type": "stream",
     "text": [
      "Number of weighting Matrices: 3\n",
      "Number of bias Vector: 3\n",
      "\tMatrix shape: (784, 100)\n",
      "\tvector shape: (100,)\n",
      "\tMatrix shape: (100, 100)\n",
      "\tvector shape: (100,)\n",
      "\tMatrix shape: (100, 10)\n",
      "\tvector shape: (10,)\n"
     ]
    }
   ],
   "source": [
    "#### EXACT WEIGHTING MATRICIES & BAIS VECTORS ####\n",
    "\n",
    "weights = My_Network.coefs_\n",
    "biases = My_Network.intercepts_\n",
    "print(\"Number of weighting Matrices:\",len(weights))\n",
    "print(\"Number of bias Vector:\",len(biases))\n",
    "\n",
    "# we can also examine the shapes\n",
    "for W,b in zip(weights,biases):\n",
    "    print(\"\\tMatrix shape:\",W.shape)\n",
    "    print(\"\\tvector shape:\",b.shape)"
   ]
  },
  {
   "cell_type": "markdown",
   "metadata": {},
   "source": [
    "To see the linear algebra in action, lets \"hard-code\" the layers of the forward-propagations system. First, let's assign each matrix and vector it's own variable. And select a sample from the testing designmatic \"X_test\" to pass through the network manually. \n",
    "For more details on the ReLU activation function, please see:\n",
    "https://medium.com/@danqing/a-practical-guide-to-relu-b83ca804f1f7"
   ]
  },
  {
   "cell_type": "code",
   "execution_count": 68,
   "metadata": {},
   "outputs": [],
   "source": [
    "#### ASSIGN WEIGHTS & BIASES ####\n",
    "\n",
    "W0,W1,W2 = weights[0],weights[1],weights[2]\n",
    "b0,b1,b2 = biases[0],biases[1],biases[2]\n",
    "\n",
    "# define our activation function\n",
    "def ReLU(vec):\n",
    "    \"\"\" Rectified Linear Unit Activation Function for elements in vector\"\"\"\n",
    "    vec = vec.ravel()\n",
    "    for elem in vec:\n",
    "        if elem <= 0:\n",
    "            elem -= elem\n",
    "    return vec.reshape(-1,1)\n",
    "        \n",
    "\n",
    "# Note that '@' is Python for standard matrix-multiplications"
   ]
  },
  {
   "cell_type": "code",
   "execution_count": 69,
   "metadata": {},
   "outputs": [
    {
     "name": "stdout",
     "output_type": "stream",
     "text": [
      "Input shape (784, 1)\n",
      "Layer 1 shape: (100, 1)\n",
      "Layer 2 shape: (100, 1)\n",
      "Layer 3 shape: (10, 1)\n"
     ]
    }
   ],
   "source": [
    "#### FORWARD PASS THROUGH NETWORK ####\n",
    "\n",
    "# input feature vector, same sample as above\n",
    "x0 = sample.reshape(-1,1)\n",
    "print(\"Input shape\",x0.shape)\n",
    "\n",
    "# 1st hidden layer\n",
    "a1 = W0.T @ x0 + b0.reshape(-1,1)\n",
    "x1 = ReLU(a1)\n",
    "print(\"Layer 1 shape:\",x1.shape)\n",
    "\n",
    "# 2nd hidden layer\n",
    "a2 = ReLU(W1.T @ x1 + b1.reshape(-1,1))\n",
    "x2 = ReLU(a2)\n",
    "print(\"Layer 2 shape:\",x2.shape)\n",
    "\n",
    "# output layer\n",
    "a3 = W2.T @ x2 + b2.reshape(-1,1)\n",
    "x3 = ReLU(a3)\n",
    "print(\"Layer 3 shape:\",x3.shape)\n",
    "\n",
    "# TIP: Checking the dimesnions of each object is a great way to make sure everything is running properly!"
   ]
  },
  {
   "cell_type": "markdown",
   "metadata": {},
   "source": [
    "We have now sucessfully pased the input vector through our neural network by simply repeating the equation from the 1st cell until we reach the output layer! Notice how along the way we've had to do some transposing and reshaping- this is just a property of how sklearn stores the numpy arrays efficiently. It's yet another reason why we have to very careful about the dimensions of our operators. Finally, let's check our prediction:"
   ]
  },
  {
   "cell_type": "code",
   "execution_count": 70,
   "metadata": {},
   "outputs": [
    {
     "name": "stdout",
     "output_type": "stream",
     "text": [
      "Network output for this sample:\n",
      "\n",
      "[ 1329.78594357 -1243.01565051  1929.42060143  1882.59319622\n",
      "  1081.52750133 -1741.1441035   1382.83082564  -506.1972348\n",
      "    52.45654206   190.80076882]\n"
     ]
    }
   ],
   "source": [
    "#### LAST LAYER ACTIVATIONS ####\n",
    "output_activations = x3.ravel()\n",
    "print(\"Network output for this sample:\\n\")\n",
    "print(output_activations)"
   ]
  },
  {
   "cell_type": "code",
   "execution_count": null,
   "metadata": {},
   "outputs": [],
   "source": []
  }
 ],
 "metadata": {
  "kernelspec": {
   "display_name": "Python 3",
   "language": "python",
   "name": "python3"
  },
  "language_info": {
   "codemirror_mode": {
    "name": "ipython",
    "version": 3
   },
   "file_extension": ".py",
   "mimetype": "text/x-python",
   "name": "python",
   "nbconvert_exporter": "python",
   "pygments_lexer": "ipython3",
   "version": "3.7.3"
  }
 },
 "nbformat": 4,
 "nbformat_minor": 2
}
