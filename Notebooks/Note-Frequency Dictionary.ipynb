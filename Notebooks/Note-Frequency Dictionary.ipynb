{
 "cells": [
  {
   "cell_type": "code",
   "execution_count": 1,
   "metadata": {},
   "outputs": [],
   "source": [
    "\"\"\"\n",
    "Landon Buell\n",
    "30 December 2019\n",
    "\"\"\"\n",
    "\n",
    "import numpy as np\n",
    "import pandas as pd\n"
   ]
  },
  {
   "cell_type": "code",
   "execution_count": 5,
   "metadata": {},
   "outputs": [],
   "source": [
    "notefreq = {}\n",
    "notes = np.array([])\n",
    "for octave in np.arange(0,9):\n",
    "    for letter in ['A','Bb','B','C','Db','D','Eb','E','F','Gb','G','Ab'] :   \n",
    "        name = letter+str(octave)\n",
    "        notes = np.append(notes,name)\n",
    "        \n",
    "\n",
    "steps = np.arange(-int(12*4),+int(12*5),1,dtype=int)\n",
    "freqs = np.array([440*(2**(n/12)) for n in steps]).round(4)"
   ]
  },
  {
   "cell_type": "code",
   "execution_count": 6,
   "metadata": {
    "scrolled": true
   },
   "outputs": [
    {
     "name": "stdout",
     "output_type": "stream",
     "text": [
      "108\n",
      "108\n"
     ]
    }
   ],
   "source": [
    "print(len(notes))\n",
    "print(len(freqs))"
   ]
  },
  {
   "cell_type": "code",
   "execution_count": 7,
   "metadata": {
    "scrolled": false
   },
   "outputs": [
    {
     "name": "stdout",
     "output_type": "stream",
     "text": [
      "    Note   Frequency\n",
      "0     A0        27.5\n",
      "1    Bb0     29.1352\n",
      "2     B0     30.8677\n",
      "3     C0     32.7032\n",
      "4    Db0     34.6478\n",
      "5     D0     36.7081\n",
      "6    Eb0     38.8909\n",
      "7     E0     41.2034\n",
      "8     F0     43.6535\n",
      "9    Gb0     46.2493\n",
      "10    G0     48.9994\n",
      "11   Ab0     51.9131\n",
      "12    A1        55.0\n",
      "13   Bb1     58.2705\n",
      "14    B1     61.7354\n",
      "15    C1     65.4064\n",
      "16   Db1     69.2957\n",
      "17    D1     73.4162\n",
      "18   Eb1     77.7817\n",
      "19    E1     82.4069\n",
      "20    F1     87.3071\n",
      "21   Gb1     92.4986\n",
      "22    G1     97.9989\n",
      "23   Ab1    103.8262\n",
      "24    A2       110.0\n",
      "25   Bb2    116.5409\n",
      "26    B2    123.4708\n",
      "27    C2    130.8128\n",
      "28   Db2    138.5913\n",
      "29    D2    146.8324\n",
      "30   Eb2    155.5635\n",
      "31    E2    164.8138\n",
      "32    F2    174.6141\n",
      "33   Gb2    184.9972\n",
      "34    G2    195.9977\n",
      "35   Ab2    207.6523\n",
      "36    A3       220.0\n",
      "37   Bb3    233.0819\n",
      "38    B3    246.9417\n",
      "39    C3    261.6256\n",
      "40   Db3    277.1826\n",
      "41    D3    293.6648\n",
      "42   Eb3     311.127\n",
      "43    E3    329.6276\n",
      "44    F3    349.2282\n",
      "45   Gb3    369.9944\n",
      "46    G3    391.9954\n",
      "47   Ab3    415.3047\n",
      "48    A4       440.0\n",
      "49   Bb4    466.1638\n",
      "50    B4    493.8833\n",
      "51    C4    523.2511\n",
      "52   Db4    554.3653\n",
      "53    D4    587.3295\n",
      "54   Eb4     622.254\n",
      "55    E4    659.2551\n",
      "56    F4    698.4565\n",
      "57   Gb4    739.9888\n",
      "58    G4    783.9909\n",
      "59   Ab4    830.6094\n",
      "60    A5       880.0\n",
      "61   Bb5    932.3275\n",
      "62    B5    987.7666\n",
      "63    C5   1046.5023\n",
      "64   Db5   1108.7305\n",
      "65    D5   1174.6591\n",
      "66   Eb5   1244.5079\n",
      "67    E5   1318.5102\n",
      "68    F5   1396.9129\n",
      "69   Gb5   1479.9777\n",
      "70    G5   1567.9817\n",
      "71   Ab5   1661.2188\n",
      "72    A6      1760.0\n",
      "73   Bb6    1864.655\n",
      "74    B6   1975.5332\n",
      "75    C6   2093.0045\n",
      "76   Db6    2217.461\n",
      "77    D6   2349.3181\n",
      "78   Eb6   2489.0159\n",
      "79    E6   2637.0205\n",
      "80    F6   2793.8259\n",
      "81   Gb6   2959.9554\n",
      "82    G6   3135.9635\n",
      "83   Ab6   3322.4376\n",
      "84    A7      3520.0\n",
      "85   Bb7   3729.3101\n",
      "86    B7   3951.0664\n",
      "87    C7    4186.009\n",
      "88   Db7   4434.9221\n",
      "89    D7   4698.6363\n",
      "90   Eb7   4978.0317\n",
      "91    E7   5274.0409\n",
      "92    F7   5587.6517\n",
      "93   Gb7   5919.9108\n",
      "94    G7    6271.927\n",
      "95   Ab7   6644.8752\n",
      "96    A8      7040.0\n",
      "97   Bb8   7458.6202\n",
      "98    B8   7902.1328\n",
      "99    C8   8372.0181\n",
      "100  Db8   8869.8442\n",
      "101   D8   9397.2726\n",
      "102  Eb8   9956.0635\n",
      "103   E8  10548.0818\n",
      "104   F8  11175.3034\n",
      "105  Gb8  11839.8215\n",
      "106   G8   12543.854\n",
      "107  Ab8  13289.7503\n"
     ]
    }
   ],
   "source": [
    "frame = pd.DataFrame(data=np.array([notes,freqs]).transpose(),columns=['Note','Frequency'])\n",
    "\n",
    "pd.set_option('display.max_rows', None)\n",
    "print(frame)"
   ]
  },
  {
   "cell_type": "code",
   "execution_count": null,
   "metadata": {},
   "outputs": [],
   "source": []
  }
 ],
 "metadata": {
  "kernelspec": {
   "display_name": "Python 3",
   "language": "python",
   "name": "python3"
  },
  "language_info": {
   "codemirror_mode": {
    "name": "ipython",
    "version": 3
   },
   "file_extension": ".py",
   "mimetype": "text/x-python",
   "name": "python",
   "nbconvert_exporter": "python",
   "pygments_lexer": "ipython3",
   "version": "3.7.3"
  }
 },
 "nbformat": 4,
 "nbformat_minor": 2
}
