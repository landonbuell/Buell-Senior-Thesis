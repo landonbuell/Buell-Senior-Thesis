{
 "cells": [
  {
   "cell_type": "code",
   "execution_count": 14,
   "metadata": {},
   "outputs": [],
   "source": [
    "\"\"\"\n",
    "Landon Buell\n",
    "PHYS 799\n",
    "Read MP3 files\n",
    "28 December 2019\n",
    "\"\"\"\n",
    "\n",
    "import numpy as np\n",
    "import matplotlib.pyplot as plt\n",
    "import os\n",
    "\n",
    "import scipy.signal as signal\n",
    "import scipy.io.wavfile as sciowav\n",
    "import scipy.fftpack as fftpack\n",
    "\n",
    "int_dir = 'C:/Users/Landon/Documents/GitHub/Buell-Senior-Thesis/Notebooks'\n",
    "wav_dir = 'C:/Users/Landon/Documents/wav_audio'\n",
    "\n",
    "features = (2**14)      # this is the number of input neurons"
   ]
  },
  {
   "cell_type": "code",
   "execution_count": 15,
   "metadata": {},
   "outputs": [],
   "source": [
    "\"\"\" Create Object to Hold infor for each wav file \"\"\"\n",
    "\n",
    "class wav_file ():\n",
    "    \"\"\" Create Raw wavefile object \"\"\"\n",
    "\n",
    "    def __init__(self,root,file):\n",
    "        \"\"\" Initialize Class Object \"\"\"\n",
    "        self.dirpath = root                     # intial storage path\n",
    "        self.filename = file                    # filename\n",
    "        self.wavepath = self.wave_path()\n",
    "        self.fftpath = self.fft_path()          # path for FFT output\n",
    "        self.spectpath = self.sectro_path()     # path\n",
    "\n",
    "    def wave_path (self):\n",
    "        \"\"\" Create path destination for waveform \"\"\"\n",
    "        path = self.dirpath.replace('wav_audio','wav_waveforms')\n",
    "        return path\n",
    "\n",
    "    def fft_path (self):\n",
    "        \"\"\" Create path destination for frequency spectra \"\"\"\n",
    "        path = self.dirpath.replace('wav_audio','wav_FFTs')\n",
    "        return path\n",
    "\n",
    "    def sectro_path(self):\n",
    "        \"\"\" Create path destination for frequency spectra \"\"\"\n",
    "        path = self.dirpath.replace('wav_audio','wav_Spectra')\n",
    "        return path\n",
    "\n",
    "    def make_paths (self):\n",
    "        \"\"\" Test if paths exist \"\"\"\n",
    "        paths = [self.wavepath,self.fftpath,self.spectpath]\n",
    "        for path in paths:          # for each path\n",
    "            if os.path.exists(path) == False:\n",
    "                os.mkdir(path)\n",
    "            else:\n",
    "                continue"
   ]
  },
  {
   "cell_type": "code",
   "execution_count": 16,
   "metadata": {},
   "outputs": [
    {
     "name": "stdout",
     "output_type": "stream",
     "text": [
      "Number of 'wav' Objects: 1050\n"
     ]
    }
   ],
   "source": [
    "\"\"\" File each .wav file in parent directory \"\"\"\n",
    "\n",
    "def read_directory(dir):\n",
    "    \"\"\"Read all files in given directory path\"\"\"\n",
    "    file_objs = []                          # list to '.wav' hold files objs\n",
    "    for roots,dirs,files in os.walk(dir):   # all objects in parent path\n",
    "        for file in files:                  # files in list of files\n",
    "            if file.endswith('.wav'):       # if '.wav' file\n",
    "                wavs = wav_file(roots,file) # make instance\n",
    "                file_objs.append(wavs)      # add to list of file objs\n",
    "    return file_objs                        # return file\n",
    "\n",
    "wav_files = read_directory(wav_dir)\n",
    "print(\"Number of 'wav' Objects:\",len(wav_files))"
   ]
  },
  {
   "cell_type": "code",
   "execution_count": null,
   "metadata": {},
   "outputs": [],
   "source": [
    "def FFT_Data (waveform,rate):\n",
    "    \"\"\" Compute discrete Fast Fourier transform of waveform \"\"\"\n",
    "    pass"
   ]
  },
  {
   "cell_type": "code",
   "execution_count": null,
   "metadata": {},
   "outputs": [
    {
     "name": "stdout",
     "output_type": "stream",
     "text": [
      "(89670, 2)\n"
     ]
    }
   ],
   "source": [
    "for file in wav_files:\n",
    "    os.chdir(file.dirpath)                  # change to dir path\n",
    "    rate,data = sciowav.read(file.filename) # read the wav file\n",
    "    data = np.transpose(data)\n",
    "    print(np.shape(data))\n",
    "    \n",
    "    A = input(\"wait:\")"
   ]
  },
  {
   "cell_type": "code",
   "execution_count": null,
   "metadata": {},
   "outputs": [],
   "source": []
  }
 ],
 "metadata": {
  "kernelspec": {
   "display_name": "Python 3",
   "language": "python",
   "name": "python3"
  },
  "language_info": {
   "codemirror_mode": {
    "name": "ipython",
    "version": 3
   },
   "file_extension": ".py",
   "mimetype": "text/x-python",
   "name": "python",
   "nbconvert_exporter": "python",
   "pygments_lexer": "ipython3",
   "version": "3.7.3"
  }
 },
 "nbformat": 4,
 "nbformat_minor": 2
}
