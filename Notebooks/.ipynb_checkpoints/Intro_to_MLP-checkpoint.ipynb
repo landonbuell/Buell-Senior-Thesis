{
 "cells": [
  {
   "cell_type": "markdown",
   "metadata": {},
   "source": [
    "# Creating your First Multilayer Perceptron Classifier in Python w/ Scikit-Learn\n",
    "#### Landon Buell - 24 April 2020\n",
    "#### Adpated & Modified from \"Hands on Machine Learning with Scikit-Learn and Tensorflow\" by Aurelien Geron"
   ]
  },
  {
   "cell_type": "markdown",
   "metadata": {},
   "source": [
    "The Multilayer Perceptron is a simple feed-forward architecture for neural networks developed by Frank Rosenblatt in the 1950's. It's composed of layers of \"neruons\" which we model as columns of floating-point numbers. The entries on each layer-vector object are referred to activations of the neruons in that layer. Information is passed through the network by repeated matrix- vector equations. \n",
    "\n",
    "Supose we have a column vector (M x 1) that contains activations for the $l$-th layer. We can produce the $l+1$ layer:\n",
    "$$ \\vec{x}^{(l+1)} = f \\Big[ \\hat{W}^{(l)} \\vec{x}^{(l)} + \\vec{b}^{(l)} \\Big] $$\n",
    "where $x^{(l+1)}$ is the activation vector (N x 1) for the next layer, $\\hat{W}$ is an (M x N) weighting matrix, $\\vec{b}$ is a (N x 1) bias vector, and $f$ is some activation function.\n",
    "\n",
    "For a network with $L$ layers (L-2 hidden, 1 input, 1 output), this equation is repeated $L-1$ times. The activations in the final layer correspond to the Network's final decision of a particular input sample."
   ]
  },
  {
   "cell_type": "markdown",
   "metadata": {},
   "source": [
    "## Rather than build one from the ground up:\n",
    "Let's explore the scikit-learn (sklearn) impliementation of the MLP network model. sklearn is a an open-source Python Module that has within it several smaller submodules that are all built around facilitaing a machine learning work flow for a Python 3.X user. The main documentation page can be found here:\n",
    "https://scikit-learn.org/stable/\n",
    "\n",
    "Before we import dive into sklearn, lets import some tools for later\n"
   ]
  },
  {
   "cell_type": "code",
   "execution_count": 120,
   "metadata": {},
   "outputs": [
    {
     "name": "stdout",
     "output_type": "stream",
     "text": [
      "1.16.5\n",
      "0.21.3\n"
     ]
    }
   ],
   "source": [
    "#### PRELIMINARY IMPORTS ####\n",
    "import numpy as np\n",
    "import matplotlib.pyplot as plt\n",
    "import sklearn\n",
    "\n",
    "# program versions\n",
    "print(np.__version__)\n",
    "print(sklearn.__version__)"
   ]
  },
  {
   "cell_type": "markdown",
   "metadata": {},
   "source": [
    "## The Goal: Build a Digit-Image Classifier Neural Network\n",
    "For this example, we'll use the classifier variant to create a \"Digit-Detector Algorithm\" that identifies a digit within a 28 x 28 pixel picture.  To do this, we will use a standard toy data set called \"MNIST\". This is a data set modified from the US Postal service. You can find more details about it here:\n",
    "https://en.wikipedia.org/wiki/MNIST_database\n",
    "\n",
    "We can actually load in this data set directly from sklearn! Note: Due to the size of the data set, your computer may take a few seconds to completely run the next cell."
   ]
  },
  {
   "cell_type": "code",
   "execution_count": 103,
   "metadata": {},
   "outputs": [
    {
     "name": "stdout",
     "output_type": "stream",
     "text": [
      "Shape of design matrix: (70000, 784)\n",
      "Shape of target vector: (70000,)\n"
     ]
    }
   ],
   "source": [
    "#### LOAD IN RAW DATA SET ####\n",
    "\n",
    "from sklearn.datasets import fetch_openml\n",
    "X,y = fetch_openml('mnist_784',version=1,return_X_y=True)\n",
    "\n",
    "# convert target entries to integers\n",
    "y = y.astype(np.uint64)\n",
    "\n",
    "# lets examine the shape of out data:\n",
    "print(\"Shape of design matrix:\",X.shape)\n",
    "print(\"Shape of target vector:\",y.shape)"
   ]
  },
  {
   "cell_type": "markdown",
   "metadata": {},
   "source": [
    "We can see that out design matrix $X$ is made of up $70,000$ rows by $784$ columns. This corresponds to $70,000$ samples in the data set, each one has 784 features, which are the 28 x 28 pixels. As a 'sanity check', lets examine what a sample looks like:"
   ]
  },
  {
   "cell_type": "code",
   "execution_count": 104,
   "metadata": {},
   "outputs": [
    {
     "name": "stdout",
     "output_type": "stream",
     "text": [
      "Image is labeled: 3\n"
     ]
    },
    {
     "data": {
      "image/png": "[encoded data removed]",
      "text/plain": [
       "<Figure size 576x576 with 1 Axes>"
      ]
     },
     "metadata": {
      "needs_background": "light"
     },
     "output_type": "display_data"
    }
   ],
   "source": [
    "#### EXAMINING A SINGLE SAMPLE OF DATA ####\n",
    "\n",
    "index = 10000\n",
    "# lets pull out a single row from the design matrix\n",
    "digit = X[index].reshape(28,28)\n",
    "# Lets pull out the corresponding label from the tagret vector:\n",
    "label = y[index]\n",
    "print(\"Image is labeled:\",label)\n",
    "\n",
    "plt.figure(figsize=(8,8))\n",
    "plt.imshow(digit,cmap=plt.cm.binary)\n",
    "plt.show()"
   ]
  },
  {
   "cell_type": "markdown",
   "metadata": {},
   "source": [
    "## Last Step before building our network,\n",
    "Lets break data into training and testing samples, and we'll begin!"
   ]
  },
  {
   "cell_type": "code",
   "execution_count": 105,
   "metadata": {},
   "outputs": [],
   "source": [
    "#### SPLIT INTO TRAINING & TESTING SAMPLES ####\n",
    "\n",
    "from sklearn.model_selection import train_test_split\n",
    "\n",
    "X_train,X_test,y_train,y_test = train_test_split(X,y,test_size=0.4)"
   ]
  },
  {
   "cell_type": "markdown",
   "metadata": {},
   "source": [
    "## Creating an Sklearn MLP Classifier\n",
    "Now let's actually create a neural network! We'll use the \"MLPClassifier\" class object from the \"neural_network\" submodule.\n",
    "\n",
    "More on sklearn.neural_networks:\n",
    "https://scikit-learn.org/stable/modules/neural_networks_supervised.html\n",
    "\n",
    "More on the MLPClassifier Object:\n",
    "https://scikit-learn.org/stable/modules/generated/sklearn.neural_network.MLPClassifier.html\n",
    "\n",
    "When we create this instance, lets give our network 2 hidden layers, each with 100 neurons. Given our data set, the input layer with have 784 neurons, which we also call \"features\" (one for each pixel) and 10 output neurons, which we call \"classes\".\n",
    "Let's also use the \"ReLU\" activation function and the \"Stochastic Gradient Descent\" back propagation method to train the model as well. \n",
    "\n",
    "We will also set the \"random_state\" parameter to a fixed value so that we produce the same results from computer to computer. This parameter simply adjusts the initial values in the entries of each weighting matrix and bias vector."
   ]
  },
  {
   "cell_type": "code",
   "execution_count": 106,
   "metadata": {},
   "outputs": [],
   "source": [
    "#### CREATE SKLEARN NETWORK INSTANCE ####\n",
    "\n",
    "from sklearn.neural_network import MLPClassifier\n",
    "\n",
    "My_Network = MLPClassifier(hidden_layer_sizes=(100,100),activation='relu',\n",
    "                          solver='sgd',random_state=0)\n",
    "\n",
    "# most of the other Hyper-parameters are taken care of for us!"
   ]
  },
  {
   "cell_type": "markdown",
   "metadata": {},
   "source": [
    "## Training our Classifier\n",
    "Since each entry weighting matricies and bias vectors are initally random, we essentially have a very fancy random number generator! We need to train our model on the data. We do this by \"fitting\" the nerual network with the $X$ training subset and the corresponding $y$ subset. A network train's itself by adjusting the parameters in the weight matricies & bias vectors to minimize and error function (which we usually call a \"loss function\").\n",
    "\n",
    "It's worth noting that given our particular architect, the loss function of the network, and any decision it makes is a function of ~ 100,000 parameters. if you sum up the sizes of each weight matrix & bais vector, there are about ~99,610 different 'knobs' and 'dials' that we have to adjust in order to train this model. This means that we are optimizing a function in ~100,000 dimensional space!\n",
    "\n",
    "More on Stochastic Gradient Descent:\n",
    "https://en.wikipedia.org/wiki/Stochastic_gradient_descent\n",
    "\n",
    "The exact details behind back propagation training is a topic for another notebook (or a trip down the google-search rabbit hole), but for now, this is the general idea.\n",
    "\n",
    "Once agin, due to the volume of this data set and the computational complexity of the training process, the next cell make take a few seconds to fully run. \n"
   ]
  },
  {
   "cell_type": "code",
   "execution_count": 108,
   "metadata": {},
   "outputs": [
    {
     "name": "stderr",
     "output_type": "stream",
     "text": [
      "C:\\Users\\Landon\\Anaconda3\\lib\\site-packages\\sklearn\\neural_network\\multilayer_perceptron.py:566: ConvergenceWarning: Stochastic Optimizer: Maximum iterations (200) reached and the optimization hasn't converged yet.\n",
      "  % self.max_iter, ConvergenceWarning)\n"
     ]
    }
   ],
   "source": [
    "#### TRAIN THE NEURAL NETWORK CLASSIFIER ####\n",
    "\n",
    "My_Network = My_Network.fit(X_train,y_train)"
   ]
  },
  {
   "cell_type": "markdown",
   "metadata": {},
   "source": [
    "## Predicting on a Sample:\n",
    "We can run a precition on a single sample from the TESTING data set. This gaurentees that out classifier is making a predicitions on data that it has never seen before. Sometimes the predictions are accurate and sometimes they aren't. lets look as another sample:"
   ]
  },
  {
   "cell_type": "code",
   "execution_count": 112,
   "metadata": {
    "scrolled": false
   },
   "outputs": [
    {
     "name": "stdout",
     "output_type": "stream",
     "text": [
      "Image is labeled: 7\n",
      "Network prediction [7]\n"
     ]
    },
    {
     "data": {
      "image/png": "[encoded data removed]",
      "text/plain": [
       "<Figure size 576x576 with 1 Axes>"
      ]
     },
     "metadata": {
      "needs_background": "light"
     },
     "output_type": "display_data"
    }
   ],
   "source": [
    "#### PREDICTION A SINGLE SAMPLE OF DATA ####\n",
    "\n",
    "index = 1002\n",
    "# lets pull out a single row from the design matrix\n",
    "sample = X_test[index] \n",
    "digit = X_test[index].reshape(28,28)\n",
    "# Lets pull out the corresponding label from the tagret vector:\n",
    "label = y_test[index]\n",
    "print(\"Image is labeled:\",label)\n",
    "print(\"Network prediction\",My_Network.predict([sample]))\n",
    "\n",
    "plt.figure(figsize=(8,8))\n",
    "plt.imshow(digit,cmap=plt.cm.binary)\n",
    "plt.show()"
   ]
  },
  {
   "cell_type": "markdown",
   "metadata": {},
   "source": [
    "## Under the Hood - Using Linear Algbrea\n",
    "The exact weighting matricies and bais vectors can be extracted from the trained network instance. We can use these the \"manually\" re-create this prediction using repeated variation of the equation in the 2nd cell. Lets extract the matricies and manually assign them values."
   ]
  },
  {
   "cell_type": "code",
   "execution_count": 111,
   "metadata": {},
   "outputs": [
    {
     "name": "stdout",
     "output_type": "stream",
     "text": [
      "Number of weighting Matrices: 3\n",
      "Number of bias Vector: 3\n",
      "\tMatrix shape: (784, 100)\n",
      "\tvector shape: (100,)\n",
      "\tMatrix shape: (100, 100)\n",
      "\tvector shape: (100,)\n",
      "\tMatrix shape: (100, 10)\n",
      "\tvector shape: (10,)\n"
     ]
    }
   ],
   "source": [
    "#### EXACT WEIGHTING MATRICIES & BAIS VECTORS ####\n",
    "\n",
    "weights = My_Network.coefs_\n",
    "biases = My_Network.intercepts_\n",
    "print(\"Number of weighting Matrices:\",len(weights))\n",
    "print(\"Number of bias Vector:\",len(biases))\n",
    "\n",
    "# we can also examine the shapes\n",
    "for W,b in zip(weights,biases):\n",
    "    print(\"\\tMatrix shape:\",W.shape)\n",
    "    print(\"\\tvector shape:\",b.shape)"
   ]
  },
  {
   "cell_type": "markdown",
   "metadata": {},
   "source": [
    "To see the linear algebra in action, lets \"hard-code\" the layers of the forward-propagations system. First, let's assign each matrix and vector it's own variable. And select a sample from the testing designmatic \"X_test\" to pass through the network manually. \n",
    "\n",
    "For more details on the ReLU activation function, please see:\n",
    "https://medium.com/@danqing/a-practical-guide-to-relu-b83ca804f1f7"
   ]
  },
  {
   "cell_type": "code",
   "execution_count": 113,
   "metadata": {},
   "outputs": [],
   "source": [
    "#### ASSIGN WEIGHTS & BIASES ####\n",
    "\n",
    "W0,W1,W2 = weights[0],weights[1],weights[2]\n",
    "b0,b1,b2 = biases[0],biases[1],biases[2]\n",
    "\n",
    "# define our activation function\n",
    "def ReLU(vec):\n",
    "    \"\"\" Rectified Linear Unit Activation Function for elements in vector\"\"\"\n",
    "    vec = vec.ravel()\n",
    "    for i in range(len(vec)):\n",
    "        if vec[i] <= 0.0:\n",
    "            vec[i] = 0.0\n",
    "    return vec.reshape(-1,1)\n",
    "        \n",
    "\n",
    "# Note that '@' is Python for standard matrix-multiplications"
   ]
  },
  {
   "cell_type": "code",
   "execution_count": 115,
   "metadata": {},
   "outputs": [
    {
     "name": "stdout",
     "output_type": "stream",
     "text": [
      "Input shape (784, 1)\n",
      "Layer 1 shape: (100, 1)\n",
      "Layer 2 shape: (100, 1)\n",
      "Layer 3 shape: (10, 1)\n"
     ]
    }
   ],
   "source": [
    "#### FORWARD PASS THROUGH NETWORK ####\n",
    "\n",
    "# input feature vector, same sample as above\n",
    "x0 = sample.reshape(-1,1)\n",
    "print(\"Input shape\",x0.shape)\n",
    "\n",
    "# 1st hidden layer\n",
    "a1 = W0.T @ x0 + b0.reshape(-1,1)\n",
    "x1 = ReLU(a1)\n",
    "print(\"Layer 1 shape:\",x1.shape)\n",
    "\n",
    "# 2nd hidden layer\n",
    "a2 = W1.T @ x1 + b1.reshape(-1,1)\n",
    "x2 = ReLU(a2)\n",
    "print(\"Layer 2 shape:\",x2.shape)\n",
    "\n",
    "# output layer\n",
    "a3 = W2.T @ x2 + b2.reshape(-1,1)\n",
    "x3 = ReLU(a3)\n",
    "print(\"Layer 3 shape:\",x3.shape)\n",
    "\n",
    "# TIP: Checking the dimesnions of each object is a great way to make sure everything is running properly!"
   ]
  },
  {
   "cell_type": "markdown",
   "metadata": {},
   "source": [
    "We have now sucessfully pased the input vector through our neural network by simply repeating the equation from the 1st cell until we reach the output layer! Notice how along the way we've had to do some transposing and reshaping- this is just a property of how sklearn stores the numpy arrays efficiently. It's yet another reason why we have to very careful about the dimensions of our operators. Finally, let's check our prediction:"
   ]
  },
  {
   "cell_type": "code",
   "execution_count": 117,
   "metadata": {},
   "outputs": [
    {
     "name": "stdout",
     "output_type": "stream",
     "text": [
      "Network output for this sample:\n",
      "\n",
      "[ 0.          3.89227429  2.71098066 13.16824779  0.          0.\n",
      "  0.         22.77032281  0.         11.89063506] \n",
      "\n",
      "Manually predicted value: 7\n",
      "Recall predicted value from before: [7]\n"
     ]
    }
   ],
   "source": [
    "#### LAST LAYER ACTIVATIONS ####\n",
    "\n",
    "output_activations = x3.ravel()\n",
    "\n",
    "print(\"Network output for this sample:\\n\")\n",
    "print(output_activations,'\\n')\n",
    "\n",
    "# find the INDEX of the maximum activation\n",
    "max_entry = np.argmax(output_activations)\n",
    "\n",
    "print(\"Manually predicted value:\",max_entry)\n",
    "print(\"Recall predicted value from before:\",My_Network.predict([sample]))"
   ]
  },
  {
   "cell_type": "markdown",
   "metadata": {},
   "source": [
    "Notice how the final layer has 10 activation values. Recall that each one of these is representative of the 10 possible output classes 0 - 9. Since Python is a 0-indexed language, each element in the array is then perfectly correspondent to it's digit prediction (i.e. array[5] = '5' prediction). In most cases, things won't work out this nicely though. In the case of much deeper and complex networks, this forward process is  coded underneath a \"for-loop\" such that is can be generalized for any number of hidden layers. However, in the words of many great textbooks: \"This has been left and an excercise for the reader\""
   ]
  },
  {
   "cell_type": "code",
   "execution_count": 95,
   "metadata": {},
   "outputs": [
    {
     "ename": "SyntaxError",
     "evalue": "unexpected EOF while parsing (<ipython-input-95-eb89292c2e9d>, line 10)",
     "output_type": "error",
     "traceback": [
      "\u001b[1;36m  File \u001b[1;32m\"<ipython-input-95-eb89292c2e9d>\"\u001b[1;36m, line \u001b[1;32m10\u001b[0m\n\u001b[1;33m    \u001b[0m\n\u001b[1;37m    ^\u001b[0m\n\u001b[1;31mSyntaxError\u001b[0m\u001b[1;31m:\u001b[0m unexpected EOF while parsing\n"
     ]
    }
   ],
   "source": [
    "# start with this bits of data:\n",
    "x0 = sample.reshape(-1,1)\n",
    "weights = My_Network.coefs_\n",
    "biases = My_Network.intercepts_\n",
    "n_layers = len(weights)\n",
    "\n",
    "for layer in range (n_layers):\n",
    "    # your code here!\n",
    "    \n",
    "    "
   ]
  },
  {
   "cell_type": "markdown",
   "metadata": {},
   "source": [
    "## The Cherry on Top: Evaluating the performance over many samples\n",
    "It's not very practical to run prediction based on single samples, so we can run the same built-in prediciton algorithm to run the forward pass on manyt different samples. Lets run these predictions on the testing subset and compare them to the actual, known values on the test subset."
   ]
  },
  {
   "cell_type": "code",
   "execution_count": 118,
   "metadata": {},
   "outputs": [
    {
     "name": "stdout",
     "output_type": "stream",
     "text": [
      "Predictions: [9 2 7 1 3 5]\n",
      "Target labels: [9 7 7 1 5 5]\n"
     ]
    }
   ],
   "source": [
    "#### RUN PREDICTIONS ON TEST SAMPLE SUBSET ####\n",
    "\n",
    "# predict on whole subset\n",
    "y_predictions = My_Network.predict(X_test)\n",
    "\n",
    "# Let's compare just a few of them together\n",
    "print(\"Predictions:\",y_predictions[0:6])\n",
    "print(\"Target labels:\",y_test[0:6])"
   ]
  },
  {
   "cell_type": "code",
   "execution_count": 119,
   "metadata": {},
   "outputs": [
    {
     "data": {
      "image/png": "[encoded data removed]",
      "text/plain": [
       "<Figure size 288x288 with 1 Axes>"
      ]
     },
     "metadata": {
      "needs_background": "light"
     },
     "output_type": "display_data"
    }
   ],
   "source": [
    "#### BUILD CONFUSION MATRIX ####\n",
    "\n",
    "import sklearn.metrics as metrics\n",
    "\n",
    "confusion = metrics.confusion_matrix(y_test,y_predictions,labels=np.arange(0,10,1))\n",
    "\n",
    "plt.matshow(confusion,cmap=plt.cm.binary)\n",
    "plt.show()"
   ]
  },
  {
   "cell_type": "markdown",
   "metadata": {},
   "source": [
    "Above is a \"confusion matrix\", color coded by the size of each entry. Darker squares have larger values, and lighter squares have lower values. Every row represents a predicted value, and every column is an actaul value - thus in our case it is a 10 x 10 matrix. Entries along the main diagonal are indicative of how many samples were predicted to below to a class, and actually do belong to that class. A good classifier model has a very strong main diagonal - as shown above!\n",
    "\n",
    "Each index of the confusion matrix, $C$, very specificially:\n",
    "$$C_{i,j}$$ \n",
    "Contains observations that actaully belong to class $i$, and were predicted to be in class $j$."
   ]
  },
  {
   "cell_type": "markdown",
   "metadata": {},
   "source": [
    "## We're Finished!\n",
    "Congrats, you've looked into how Neural networks behave and make decisions using only linear algebra! In reality, most architectures of networks (and yes, there are many different kinds), are just very clever alpplications of linear algebra and mathematical optimiziation. \n",
    "\n",
    "If you want a more inutitve, start-to-finish descriptiong of the math and the training process that we just examined in the notebook, check out Grant Sanderson's Youtube Channel \"3Blue1Brown\" and his video series on MLP Networks:\n",
    "https://www.youtube.com/watch?v=aircAruvnKk&t=369s\n",
    "\n",
    "If you want a book to read that does a very solid job introducing machine learning and neural networks with python, while being very math-light check out these:\n",
    "https://www.oreilly.com/library/view/hands-on-machine-learning/9781492032632/\n",
    "https://www.oreilly.com/library/view/neural-network-projects/9781789138900/\n",
    "\n",
    "If you want a more theoretical and math-heavy introduction, Check this out:\n",
    "https://www.deeplearningbook.org/\n",
    "\n",
    "Otherwise, have fun with it, and learning something new! If you have any questions about this notebook, reach out to me at lhb1007@wildcats.unh.edu.\n",
    "\n",
    "Cheers!"
   ]
  },
  {
   "cell_type": "code",
   "execution_count": null,
   "metadata": {},
   "outputs": [],
   "source": []
  }
 ],
 "metadata": {
  "kernelspec": {
   "display_name": "Python 3",
   "language": "python",
   "name": "python3"
  },
  "language_info": {
   "codemirror_mode": {
    "name": "ipython",
    "version": 3
   },
   "file_extension": ".py",
   "mimetype": "text/x-python",
   "name": "python",
   "nbconvert_exporter": "python",
   "pygments_lexer": "ipython3",
   "version": "3.7.4"
  }
 },
 "nbformat": 4,
 "nbformat_minor": 2
}
