{
 "cells": [
  {
   "cell_type": "code",
   "execution_count": 3,
   "metadata": {},
   "outputs": [],
   "source": [
    "\"\"\"\n",
    "Landon Buell\n",
    "PHYS 799\n",
    "In-Class Performance\n",
    "6 Dec 2020\n",
    "\"\"\"\n",
    "\n",
    "import numpy as np\n",
    "import os\n",
    "import matplotlib.pyplot as plt\n",
    "import pandas as pd"
   ]
  },
  {
   "cell_type": "code",
   "execution_count": 4,
   "metadata": {},
   "outputs": [],
   "source": [
    "fileCLF = \"ByClassXValAlphaCLF@2020.12.06.20.32.06.899870@ANALYSIS.csv\"\n",
    "fileMLP = \"ByClassXValBetaMLP@2020.12.06.20.31.42.560192@ANALYSIS.csv\"\n",
    "fileCNN = \"ByClassXValGammaCNN@2020.12.06.20.31.10.150331@ANALYSIS.csv\"\n",
    "\n",
    "fileDict = \"SynthClassifierCategories.csv\"\n",
    "nClasses = 37"
   ]
  },
  {
   "cell_type": "code",
   "execution_count": 5,
   "metadata": {},
   "outputs": [],
   "source": [
    "def MakeDecodeDictionary(filepath):\n",
    "        \"\"\" Make Decoder Dictionary From Local Path \"\"\"\n",
    "        decoder = {}\n",
    "        encoder = {}\n",
    "        rawData = pd.read_csv(filepath)\n",
    "        Ints,Strs = rawData.iloc[:,0],rawData.iloc[:,1]   \n",
    "        for Int,Str in zip(Ints,Strs):          # iterate by each\n",
    "            encoder.update({str(Str):int(Int)})\n",
    "            decoder.update({int(Int):str(Str)})\n",
    "        return encoder,decoder\n",
    "    \n",
    "_enc,_dec = MakeDecodeDictionary(fileDict)"
   ]
  },
  {
   "cell_type": "code",
   "execution_count": 13,
   "metadata": {},
   "outputs": [],
   "source": [
    "dataHybrid = pd.read_csv(fileCLF,header=None,index_col=0)\n",
    "dataCNN = pd.read_csv(fileCNN,header=None,index_col=0)\n",
    "dataMLP =pd.read_csv(fileMLP,header=None,index_col=0)"
   ]
  },
  {
   "cell_type": "code",
   "execution_count": 40,
   "metadata": {},
   "outputs": [],
   "source": [
    "def PlotClassMetrics(X1,X2,X3,namesave):\n",
    "    \"\"\" Plot Metrics for classes\n",
    "        X1 = Hybrid results (4,) ; X2 = CNN results (4,) ; X3 = MLP results (4,)  \"\"\"\n",
    "    _xlabs = [\"Accuracy\",\"Precision\",\"Recall\",\"F1\"]\n",
    "    _labels = [\"Hybrid\",\"Convolution\",\"Perceptron\"]\n",
    "    _barWidth = 0.3\n",
    "    \n",
    "    _x1 = np.arange(0,4)\n",
    "    _x2 = np.arange(0,4) + _barWidth\n",
    "    _x3 = np.arange(0,4) + _barWidth*2\n",
    "    \n",
    "    plt.figure(figsize=(8,6))\n",
    "    \n",
    "    plt.bar(x=_x1,height=X1,width=_barWidth,label=_labels[0],edgeColor='White',color=\"purple\")\n",
    "    plt.bar(x=_x2,height=X2,width=_barWidth,label=_labels[1],edgeColor='White',color=\"blue\")\n",
    "    plt.bar(x=_x3,height=X3,width=_barWidth,label=_labels[2],edgeColor='White',color=\"red\")\n",
    "\n",
    "    plt.xticks(_x2,_xlabs,size=20,weight='bold',rotation=10)\n",
    "    plt.yticks(size=25,weight='bold')\n",
    "    \n",
    "    plt.legend(fontsize=25,loc='lower left',framealpha=1.0)\n",
    "    plt.grid()\n",
    "    plt.tight_layout()\n",
    "    plt.savefig(namesave+\".png\")\n",
    "    plt.show()"
   ]
  },
  {
   "cell_type": "code",
   "execution_count": 41,
   "metadata": {},
   "outputs": [
    {
     "name": "stdout",
     "output_type": "stream",
     "text": [
      "CELLO\n"
     ]
    },
    {
     "data": {
      "image/png": "[encoded data removed]",
      "text/plain": [
       "<Figure size 576x432 with 1 Axes>"
      ]
     },
     "metadata": {
      "needs_background": "light"
     },
     "output_type": "display_data"
    }
   ],
   "source": [
    "i = 10\n",
    "className = _dec[i]\n",
    "X1 = dataHybrid.iloc[i+1].to_numpy(dtype=float)\n",
    "X2 = dataCNN.iloc[i+1].to_numpy(dtype=float)\n",
    "X3 = dataMLP.iloc[i+1].to_numpy(dtype=float)\n",
    "\n",
    "print(className)\n",
    "PlotClassMetrics(X1,X2,X3,className)"
   ]
  },
  {
   "cell_type": "code",
   "execution_count": null,
   "metadata": {},
   "outputs": [],
   "source": []
  }
 ],
 "metadata": {
  "kernelspec": {
   "display_name": "Python 3",
   "language": "python",
   "name": "python3"
  },
  "language_info": {
   "codemirror_mode": {
    "name": "ipython",
    "version": 3
   },
   "file_extension": ".py",
   "mimetype": "text/x-python",
   "name": "python",
   "nbconvert_exporter": "python",
   "pygments_lexer": "ipython3",
   "version": "3.8.1"
  }
 },
 "nbformat": 4,
 "nbformat_minor": 4
}
