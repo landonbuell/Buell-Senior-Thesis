{
 "cells": [
  {
   "cell_type": "code",
   "execution_count": 46,
   "metadata": {},
   "outputs": [],
   "source": [
    "\"\"\"\n",
    "Landon Buell\n",
    "PHYS 799\n",
    "In-Class Performance\n",
    "6 Dec 2020\n",
    "\"\"\"\n",
    "\n",
    "import numpy as np\n",
    "import os\n",
    "import matplotlib.pyplot as plt\n",
    "import pandas as pd"
   ]
  },
  {
   "cell_type": "code",
   "execution_count": 47,
   "metadata": {},
   "outputs": [],
   "source": [
    "fileCLF = \"ByClassXValAlphaCLF@2020.12.06.20.32.06.899870@ANALYSIS.csv\"\n",
    "fileMLP = \"ByClassXValBetaMLP@2020.12.06.20.31.42.560192@ANALYSIS.csv\"\n",
    "fileCNN = \"ByClassXValGammaCNN@2020.12.06.20.31.10.150331@ANALYSIS.csv\"\n",
    "\n",
    "fileDict = \"SynthClassifierCategories.csv\"\n",
    "nClasses = 37"
   ]
  },
  {
   "cell_type": "code",
   "execution_count": 48,
   "metadata": {},
   "outputs": [],
   "source": [
    "def MakeDecodeDictionary(filepath):\n",
    "        \"\"\" Make Decoder Dictionary From Local Path \"\"\"\n",
    "        decoder = {}\n",
    "        encoder = {}\n",
    "        rawData = pd.read_csv(filepath)\n",
    "        Ints,Strs = rawData.iloc[:,0],rawData.iloc[:,1]   \n",
    "        for Int,Str in zip(Ints,Strs):          # iterate by each\n",
    "            encoder.update({str(Str):int(Int)})\n",
    "            decoder.update({int(Int):str(Str)})\n",
    "        return encoder,decoder\n",
    "    \n",
    "_enc,_dec = MakeDecodeDictionary(fileDict)"
   ]
  },
  {
   "cell_type": "code",
   "execution_count": 49,
   "metadata": {},
   "outputs": [],
   "source": [
    "dataHybrid = pd.read_csv(fileCLF,header=None,index_col=0)\n",
    "dataCNN = pd.read_csv(fileCNN,header=None,index_col=0)\n",
    "dataMLP =pd.read_csv(fileMLP,header=None,index_col=0)"
   ]
  },
  {
   "cell_type": "code",
   "execution_count": 60,
   "metadata": {},
   "outputs": [],
   "source": [
    "def PlotClassMetrics(X1,X2,X3,namesave):\n",
    "    \"\"\" Plot Metrics for classes\n",
    "        X1 = Hybrid results (4,) ; X2 = CNN results (4,) ; X3 = MLP results (4,)  \"\"\"\n",
    "    _xlabs = [\"Accuracy\",\"Precision\",\"Recall\",\"F1\"]\n",
    "    _labels = [\"Hybrid\",\"Convolution\",\"Perceptron\"]\n",
    "    _barWidth = 0.3\n",
    "    \n",
    "    _x1 = np.arange(0,4)\n",
    "    _x2 = np.arange(0,4) + _barWidth\n",
    "    _x3 = np.arange(0,4) + _barWidth*2\n",
    "    \n",
    "    plt.figure(figsize=(8,4))\n",
    "    \n",
    "    plt.bar(x=_x1,height=X1,width=_barWidth,label=_labels[0],edgeColor='White',color=\"purple\")\n",
    "    plt.bar(x=_x2,height=X2,width=_barWidth,label=_labels[1],edgeColor='White',color=\"blue\")\n",
    "    plt.bar(x=_x3,height=X3,width=_barWidth,label=_labels[2],edgeColor='White',color=\"red\")\n",
    "\n",
    "    plt.xticks(_x2,_xlabs,size=20,weight='bold',rotation=10)\n",
    "    plt.yticks(size=25,weight='bold')\n",
    "    \n",
    "    plt.legend(fontsize=10,loc='lower left',framealpha=1.0)\n",
    "    plt.grid(axis='y')\n",
    "    plt.tight_layout()\n",
    "    plt.savefig(namesave+\".png\")\n",
    "    #plt.show()\n",
    "    plt.close()"
   ]
  },
  {
   "cell_type": "code",
   "execution_count": 61,
   "metadata": {
    "scrolled": false
   },
   "outputs": [
    {
     "name": "stdout",
     "output_type": "stream",
     "text": [
      "ALTOFLUTE\n",
      "ALTOSAX\n",
      "BANJO\n",
      "BASS\n",
      "BASSCLARINET\n",
      "BASSFLUTE\n",
      "BASSOON\n",
      "BASSTROMBONE\n",
      "BBCLARINET\n",
      "BELLS\n",
      "CELLO\n",
      "CONTRABASSOON\n",
      "CROTALE\n",
      "EBCLARINET\n",
      "ENGLISHHORN\n",
      "FLUTE\n",
      "GUITAR\n",
      "HIHAT\n",
      "HORN\n",
      "MANDOLIN\n",
      "MARIMBA\n",
      "OBOE\n",
      "SAWTOOTHWAVE\n",
      "SAXOPHONE\n",
      "SINEWAVE\n",
      "SOPSAX\n",
      "SQUAREWAVE\n",
      "TENORTROMBONE\n",
      "TRIANGLEWAVE\n",
      "TROMBONE\n",
      "TRUMPET\n",
      "TUBA\n",
      "VIBRAPHONE\n",
      "VIOLA\n",
      "VIOLIN\n",
      "WHITENOISE\n",
      "XYLOPHONE\n"
     ]
    }
   ],
   "source": [
    "for i in range(nClasses):\n",
    "    className = _dec[i]\n",
    "    X1 = dataHybrid.iloc[i+1].to_numpy(dtype=float)\n",
    "    X2 = dataCNN.iloc[i+1].to_numpy(dtype=float)\n",
    "    X3 = dataMLP.iloc[i+1].to_numpy(dtype=float)\n",
    "\n",
    "    print(className)\n",
    "    PlotClassMetrics(X1,X2,X3,className)"
   ]
  },
  {
   "cell_type": "code",
   "execution_count": null,
   "metadata": {},
   "outputs": [],
   "source": []
  }
 ],
 "metadata": {
  "kernelspec": {
   "display_name": "Python 3",
   "language": "python",
   "name": "python3"
  },
  "language_info": {
   "codemirror_mode": {
    "name": "ipython",
    "version": 3
   },
   "file_extension": ".py",
   "mimetype": "text/x-python",
   "name": "python",
   "nbconvert_exporter": "python",
   "pygments_lexer": "ipython3",
   "version": "3.8.1"
  }
 },
 "nbformat": 4,
 "nbformat_minor": 4
}
