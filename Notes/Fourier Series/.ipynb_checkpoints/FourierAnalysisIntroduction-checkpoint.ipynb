{
 "cells": [
  {
   "cell_type": "markdown",
   "metadata": {},
   "source": [
    "# An Introduction to Fourier Analysis\n",
    "### Fourier Series / Tranforms  with Python 3\n",
    "#### Landon Buell\n",
    "#### October 2020"
   ]
  },
  {
   "cell_type": "code",
   "execution_count": 1,
   "metadata": {},
   "outputs": [],
   "source": [
    "    #### IMPORTS ####\n",
    "    \n",
    "import numpy as np\n",
    "import matplotlib.pyplot as plt\n"
   ]
  },
  {
   "cell_type": "markdown",
   "metadata": {},
   "source": [
    "#### Trigonometric Fourier Series \n",
    "From his work with partial differential equations, French mathematician and poltician Jean Basptiste Fourer found a common occurance in many boundary value problems that he encountered. His discovered that very often, seprable PDE's gave size to solutions that involved linear combinations of orthogonal trigonometric functions. Fourier eventually expanded this idea to postulate that any function of time or space, could be approximated over a given interval by a similar sum of functions. Today, we call this the trigonometric Fourier Series expansion."
   ]
  },
  {
   "cell_type": "markdown",
   "metadata": {},
   "source": [
    "The Fourier Series expansion of the a time-series function $f(t)$, over the interval $L$ is given by the sum of orthogonal trig functions:\n",
    "$$ f(t) = a_0 + \\sum_{n=1}^{+\\infty} a_n \\cos\\big(\\frac{n\\pi t}{L}\\big) + b_n \\sin\\big(\\frac{n\\pi t}{L}\\big) $$ \n",
    "Incredibly, this expansion gives rise to the ability to take any continuous function or signal, $f$ and decompose it into the sum of it's constituent frequency components. "
   ]
  },
  {
   "cell_type": "code",
   "execution_count": null,
   "metadata": {},
   "outputs": [],
   "source": []
  }
 ],
 "metadata": {
  "kernelspec": {
   "display_name": "Python 3",
   "language": "python",
   "name": "python3"
  },
  "language_info": {
   "codemirror_mode": {
    "name": "ipython",
    "version": 3
   },
   "file_extension": ".py",
   "mimetype": "text/x-python",
   "name": "python",
   "nbconvert_exporter": "python",
   "pygments_lexer": "ipython3",
   "version": "3.8.1"
  }
 },
 "nbformat": 4,
 "nbformat_minor": 4
}
